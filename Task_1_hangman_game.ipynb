{
  "nbformat": 4,
  "nbformat_minor": 0,
  "metadata": {
    "colab": {
      "provenance": [],
      "authorship_tag": "ABX9TyMAl3ONMvo3XY8eR90HIY1K",
      "include_colab_link": true
    },
    "kernelspec": {
      "name": "python3",
      "display_name": "Python 3"
    },
    "language_info": {
      "name": "python"
    }
  },
  "cells": [
    {
      "cell_type": "markdown",
      "metadata": {
        "id": "view-in-github",
        "colab_type": "text"
      },
      "source": [
        "<a href=\"https://colab.research.google.com/github/ishamahi04/CodeAlpha/blob/main/Task_1_hangman_game.ipynb\" target=\"_parent\"><img src=\"https://colab.research.google.com/assets/colab-badge.svg\" alt=\"Open In Colab\"/></a>"
      ]
    },
    {
      "cell_type": "code",
      "source": [
        "import random\n",
        "\n",
        "word_list = ['python', 'hangman', 'development', 'programming', 'computer', 'artificial', 'intelligence']\n",
        "\n",
        "def choose_word():\n",
        "    return random.choice(word_list)\n",
        "\n",
        "def display_word(word, guessed_letters):\n",
        "    display = ''\n",
        "    for letter in word:\n",
        "        if letter in guessed_letters:\n",
        "            display += letter\n",
        "        else:\n",
        "            display += '_'\n",
        "    return display\n",
        "\n",
        "def play_hangman():\n",
        "    word = choose_word()\n",
        "    guessed_letters = []\n",
        "    attempts = 6  # Number of incorrect guesses allowed\n",
        "    guessed_word = False\n",
        "\n",
        "    print(\"Welcome to Hangman!\")\n",
        "    print(\"Try to guess the word.\")\n",
        "\n",
        "    while attempts > 0 and not guessed_word:\n",
        "        print(\"\\nCurrent word: \", display_word(word, guessed_letters))\n",
        "        print(\"Guessed letters: \", guessed_letters)\n",
        "        print(f\"You have {attempts} attempts remaining.\")\n",
        "\n",
        "        # Ask the user for a guess\n",
        "        guess = input(\"Enter a letter: \").lower()\n",
        "\n",
        "        if guess in guessed_letters:\n",
        "            print(\"You already guessed that letter!\")\n",
        "            continue\n",
        "\n",
        "        # If the guess is correct, add it to guessed_letters\n",
        "        if guess in word:\n",
        "            guessed_letters.append(guess)\n",
        "            print(f\"Good guess! '{guess}' is in the word.\")\n",
        "        else:\n",
        "            guessed_letters.append(guess)\n",
        "            attempts -= 1\n",
        "            print(f\"Wrong guess! '{guess}' is not in the word.\")\n",
        "\n",
        "        # Check if the user has guessed the word\n",
        "        if all(letter in guessed_letters for letter in word):\n",
        "            guessed_word = True\n",
        "\n",
        "    # End of game\n",
        "    if guessed_word:\n",
        "        print(f\"\\nCongratulations! You've guessed the word: {word}\")\n",
        "    else:\n",
        "        print(f\"\\nYou've run out of attempts. The word was: {word}\")\n",
        "\n",
        "# Run the game\n",
        "play_hangman()\n",
        "n"
      ],
      "metadata": {
        "id": "EmOhoF-f5tCB",
        "colab": {
          "base_uri": "https://localhost:8080/"
        },
        "outputId": "82614360-3d9b-4acb-c0ca-08a2a63e1719"
      },
      "execution_count": null,
      "outputs": [
        {
          "output_type": "stream",
          "name": "stdout",
          "text": [
            "Welcome to Hangman!\n",
            "Try to guess the word.\n",
            "\n",
            "Current word:  _______\n",
            "Guessed letters:  []\n",
            "You have 6 attempts remaining.\n",
            "Enter a letter: p\n",
            "Wrong guess! 'p' is not in the word.\n",
            "\n",
            "Current word:  _______\n",
            "Guessed letters:  ['p']\n",
            "You have 5 attempts remaining.\n",
            "Enter a letter: h\n",
            "Good guess! 'h' is in the word.\n",
            "\n",
            "Current word:  h______\n",
            "Guessed letters:  ['p', 'h']\n",
            "You have 5 attempts remaining.\n",
            "Enter a letter: a\n",
            "Good guess! 'a' is in the word.\n",
            "\n",
            "Current word:  ha___a_\n",
            "Guessed letters:  ['p', 'h', 'a']\n",
            "You have 5 attempts remaining.\n",
            "Enter a letter: n\n",
            "Good guess! 'n' is in the word.\n",
            "\n",
            "Current word:  han__an\n",
            "Guessed letters:  ['p', 'h', 'a', 'n']\n",
            "You have 5 attempts remaining.\n",
            "Enter a letter: g\n",
            "Good guess! 'g' is in the word.\n",
            "\n",
            "Current word:  hang_an\n",
            "Guessed letters:  ['p', 'h', 'a', 'n', 'g']\n",
            "You have 5 attempts remaining.\n",
            "Enter a letter: m\n",
            "Good guess! 'm' is in the word.\n",
            "\n",
            "Congratulations! You've guessed the word: hangman\n"
          ]
        }
      ]
    }
  ]
}