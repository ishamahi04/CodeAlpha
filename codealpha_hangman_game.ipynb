{
  "nbformat": 4,
  "nbformat_minor": 0,
  "metadata": {
    "colab": {
      "provenance": [],
      "authorship_tag": "ABX9TyP2E9KRYLGOeylDuJwrI+yE",
      "include_colab_link": true
    },
    "kernelspec": {
      "name": "python3",
      "display_name": "Python 3"
    },
    "language_info": {
      "name": "python"
    }
  },
  "cells": [
    {
      "cell_type": "markdown",
      "metadata": {
        "id": "view-in-github",
        "colab_type": "text"
      },
      "source": [
        "<a href=\"https://colab.research.google.com/github/ishamahi04/CodeAlpha/blob/main/codealpha_hangman_game.ipynb\" target=\"_parent\"><img src=\"https://colab.research.google.com/assets/colab-badge.svg\" alt=\"Open In Colab\"/></a>"
      ]
    },
    {
      "cell_type": "code",
      "source": [
        "import random\n",
        "\n",
        "# List of words to choose from\n",
        "word_list = ['pecock', 'elephant', 'liones', 'chimpanzee', 'giraffe', 'crocodile', 'kangaroo']\n",
        "\n",
        "# Function to choose a random word from the word_list\n",
        "def choose_word():\n",
        "    return random.choice(word_list)\n",
        "\n",
        "# Function to display the current state of the word\n",
        "def display_word(word, guessed_letters):\n",
        "    display = ''\n",
        "    for letter in word:\n",
        "        if letter in guessed_letters:\n",
        "            display += letter\n",
        "        else:\n",
        "            display += '_'\n",
        "    return display\n",
        "\n",
        "# Function to play the hangman game\n",
        "def play_hangman():\n",
        "    word = choose_word()\n",
        "    guessed_letters = []\n",
        "    attempts = 6  # Number of incorrect guesses allowed\n",
        "    guessed_word = False\n",
        "\n",
        "    print(\"Welcome to Hangman!\")\n",
        "    print(\"Try to guess the word.\")\n",
        "\n",
        "    while attempts > 0 and not guessed_word:\n",
        "        print(\"\\nCurrent word: \", display_word(word, guessed_letters))\n",
        "        print(\"Guessed letters: \", guessed_letters)\n",
        "        print(f\"You have {attempts} attempts remaining.\")\n",
        "\n",
        "        # Ask the user for a guess\n",
        "        guess = input(\"Enter a letter: \").lower()\n",
        "\n",
        "        if guess in guessed_letters:\n",
        "            print(\"You already guessed that letter!\")\n",
        "            continue\n",
        "\n",
        "        # If the guess is correct, add it to guessed_letters\n",
        "        if guess in word:\n",
        "            guessed_letters.append(guess)\n",
        "            print(f\"Good guess! '{guess}' is in the word.\")\n",
        "        else:\n",
        "            guessed_letters.append(guess)\n",
        "            attempts -= 1\n",
        "            print(f\"Wrong guess! '{guess}' is not in the word.\")\n",
        "\n",
        "        # Check if the user has guessed the word\n",
        "        if all(letter in guessed_letters for letter in word):\n",
        "            guessed_word = True\n",
        "\n",
        "    # End of game\n",
        "    if guessed_word:\n",
        "        print(f\"\\nCongratulations! You've guessed the word: {word}\")\n",
        "    else:\n",
        "        print(f\"\\nYou've run out of attempts. The word was: {word}\")\n",
        "\n",
        "# Run the game\n",
        "play_hangman()"
      ],
      "metadata": {
        "id": "EmOhoF-f5tCB",
        "colab": {
          "base_uri": "https://localhost:8080/"
        },
        "outputId": "2e7cbbc2-3c7f-4ae7-9457-9b549ef4c389"
      },
      "execution_count": 5,
      "outputs": [
        {
          "output_type": "stream",
          "name": "stdout",
          "text": [
            "Welcome to Hangman!\n",
            "Try to guess the word.\n",
            "\n",
            "Current word:  _________\n",
            "Guessed letters:  []\n",
            "You have 6 attempts remaining.\n",
            "Enter a letter: l\n",
            "Good guess! 'l' is in the word.\n",
            "\n",
            "Current word:  _______l_\n",
            "Guessed letters:  ['l']\n",
            "You have 6 attempts remaining.\n",
            "Enter a letter: e\n",
            "Good guess! 'e' is in the word.\n",
            "\n",
            "Current word:  _______le\n",
            "Guessed letters:  ['l', 'e']\n",
            "You have 6 attempts remaining.\n",
            "Enter a letter: c\n",
            "Good guess! 'c' is in the word.\n",
            "\n",
            "Current word:  c__c___le\n",
            "Guessed letters:  ['l', 'e', 'c']\n",
            "You have 6 attempts remaining.\n",
            "Enter a letter: r\n",
            "Good guess! 'r' is in the word.\n",
            "\n",
            "Current word:  cr_c___le\n",
            "Guessed letters:  ['l', 'e', 'c', 'r']\n",
            "You have 6 attempts remaining.\n",
            "Enter a letter: o\n",
            "Good guess! 'o' is in the word.\n",
            "\n",
            "Current word:  croco__le\n",
            "Guessed letters:  ['l', 'e', 'c', 'r', 'o']\n",
            "You have 6 attempts remaining.\n",
            "Enter a letter: d\n",
            "Good guess! 'd' is in the word.\n",
            "\n",
            "Current word:  crocod_le\n",
            "Guessed letters:  ['l', 'e', 'c', 'r', 'o', 'd']\n",
            "You have 6 attempts remaining.\n",
            "Enter a letter: i\n",
            "Good guess! 'i' is in the word.\n",
            "\n",
            "Congratulations! You've guessed the word: crocodile\n"
          ]
        }
      ]
    }
  ]
}